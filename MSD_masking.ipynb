{
 "cells": [
  {
   "cell_type": "code",
   "execution_count": 1,
   "id": "ed127b57",
   "metadata": {},
   "outputs": [
    {
     "name": "stderr",
     "output_type": "stream",
     "text": [
      "In the future `np.bool` will be defined as the corresponding NumPy scalar.\n",
      "In the future `np.bool` will be defined as the corresponding NumPy scalar.\n",
      "In the future `np.bool` will be defined as the corresponding NumPy scalar.\n"
     ]
    },
    {
     "name": "stdout",
     "output_type": "stream",
     "text": [
      "\n",
      "===================================BUG REPORT===================================\n",
      "Welcome to bitsandbytes. For bug reports, please run\n",
      "\n",
      "python -m bitsandbytes\n",
      "\n",
      " and submit this information together with your error trace to: https://github.com/TimDettmers/bitsandbytes/issues\n",
      "================================================================================\n",
      "bin C:\\Users\\user\\anaconda3\\envs\\ailab\\lib\\site-packages\\bitsandbytes\\libbitsandbytes_cuda116.dll\n",
      "CUDA SETUP: CUDA runtime path found: C:\\Users\\user\\anaconda3\\envs\\ailab\\bin\\cudart64_110.dll\n",
      "CUDA SETUP: Highest compute capability among GPUs detected: 8.6\n",
      "CUDA SETUP: Detected CUDA version 116\n",
      "CUDA SETUP: Loading binary C:\\Users\\user\\anaconda3\\envs\\ailab\\lib\\site-packages\\bitsandbytes\\libbitsandbytes_cuda116.dll...\n"
     ]
    }
   ],
   "source": [
    "import torchio as tio\n",
    "import os\n",
    "import nibabel as nib\n",
    "import numpy as np\n",
    "import torch\n",
    "import pandas as pd\n",
    "\n",
    "from monai.metrics import compute_average_surface_distance, get_confusion_matrix\n",
    "from collections.abc import Sequence\n",
    "from monai.metrics.utils import get_mask_edges, get_surface_distance, ignore_background, prepare_spacing\n",
    "from monai.utils import convert_data_type, convert_to_tensor\n",
    "from tqdm import tqdm\n",
    "\n",
    "from scipy import ndimage\n",
    "#from scipy.ndimage import label"
   ]
  },
  {
   "cell_type": "code",
   "execution_count": 2,
   "id": "372a6040",
   "metadata": {},
   "outputs": [],
   "source": [
    "# metric class\n",
    "class Metric:\n",
    "    def __init__(self, GT, PRED):\n",
    "        self.gt = GT\n",
    "        self.pred = PRED\n",
    "        \n",
    "        # metric list\n",
    "        self.DC_list = []\n",
    "        self.DG_numerator = []\n",
    "        self.DG_denominator = []\n",
    "        self.Jaccard_list = []\n",
    "        self.VOE_list = []\n",
    "        self.RVD_list = []\n",
    "        self.RAVD_list = []\n",
    "        self.ASSD_list = []\n",
    "        self.RMSD_list = []\n",
    "        self.MSSD_list = []\n",
    "        self.TP_list = []\n",
    "        self.TN_list = []\n",
    "        self.FP_list = []\n",
    "        self.FN_list = []\n",
    "        self.SEN_list = []\n",
    "        self.SPE_list = []\n",
    "        \n",
    "    def cal_DC_and_DG(self):\n",
    "        # inersection, union, dice 계산\n",
    "        intersection = (self.pred*self.gt).sum()\n",
    "        union = self.pred.sum() + self.gt.sum()\n",
    "        dice = 2*intersection/union\n",
    "        \n",
    "        self.DG_numerator.append(intersection)\n",
    "        self.DG_denominator.append(union)\n",
    "        self.DC_list.append(dice) # save\n",
    "    \n",
    "    def cal_Jaccard_and_VOE(self):\n",
    "        intersection = (self.pred*self.gt).sum()\n",
    "        union = self.pred.sum() + self.gt.sum() - (self.pred*self.gt).sum()\n",
    "        jaccard = intersection/union\n",
    "        \n",
    "        self.Jaccard_list.append(jaccard)\n",
    "        self.VOE_list.append(1-jaccard)\n",
    "    \n",
    "    # RAVD equation: by CotepRes-Net\n",
    "    def cal_RVD_and_RAVD(self):\n",
    "        numerator = self.pred.sum() - self.gt.sum()\n",
    "        denominator = self.pred.sum() # another paper mentioned, self.gt.sum()\n",
    "        RVD = numerator/denominator\n",
    "        \n",
    "        self.RVD_list.append(RVD)\n",
    "        self.RAVD_list.append(abs(RVD))\n",
    "    \n",
    "    # average symmetric surface distance (ASD or ASSD)\n",
    "    def cal_ASSD(self):\n",
    "        # monai module\n",
    "        # compute_average_surface_distance\n",
    "        assd = compute_average_surface_distance(self.pred, self.gt, symmetric=True)\n",
    "        \n",
    "        self.ASSD_list.append(assd)\n",
    "    \n",
    "    # root mean symmetric surface distance (RMSD)\n",
    "    def cal_RMSD(self):\n",
    "        rmsd = self.compute_root_mean_surface_distance(symmetric=True)\n",
    "        \n",
    "        self.RMSD_list.append(rmsd)\n",
    "        \n",
    "    # Maximum symmetric surface distance (MSD)\n",
    "    def cal_MSSD(self):\n",
    "        mssd = self.compute_maximum_surface_distance()\n",
    "        \n",
    "        self.MSSD_list.append(mssd)\n",
    "    \n",
    "    def cal_CONFUSION_MATRIX(self):\n",
    "        pred, gt = torch.Tensor(self.pred), torch.Tensor(self.gt)\n",
    "        confusion_matrix = get_confusion_matrix(pred, gt, include_background=False)\n",
    "        tp, fp, tn, fn = confusion_matrix[0,0,...] #  3D -> 1D\n",
    "        SEN = tp/(tp+fn)\n",
    "        SPE = tn/(tn+fp)\n",
    "        \n",
    "        self.TP_list.append(tp)\n",
    "        self.TN_list.append(tn)\n",
    "        self.FP_list.append(fp)\n",
    "        self.FN_list.append(fn)\n",
    "        \n",
    "        self.SEN_list.append(SEN)\n",
    "        self.SPE_list.append(SPE)\n",
    "    \n",
    "    def print_metric(self):\n",
    "        print(\"DC score(upper):\", self.DC_list[0])\n",
    "        #print(\"DG score(upper):\", self.DG_numerator[0]/self.DG_denominator[0])\n",
    "        print(\"Jaccard score(upper):\", self.Jaccard_list[0])\n",
    "        print(\"VOE score(lower):\", self.VOE_list[0])\n",
    "        #print(\"RVD score(lower):\", self.RVD_list[0])\n",
    "        print(\"RAVD score(lower):\", self.RAVD_list[0])\n",
    "        print(\"ASSD score(lower):\", self.ASSD_list[0].item())\n",
    "        print(\"RMSD score(lower):\", self.RMSD_list[0].item())\n",
    "        print(\"MSSD score(lower):\", self.MSSD_list[0].item())\n",
    "        print(\"SEN score(upper):\", self.SEN_list[0].item())\n",
    "        print(\"SPE score(upper):\", self.SPE_list[0].item())\n",
    "    \n",
    "    def save_metric(self):\n",
    "        return self.DC_list[0], self.Jaccard_list[0], self.VOE_list[0], self.RAVD_list[0], self.ASSD_list[0].item(), \\\n",
    "                    self.RMSD_list[0].item(), self.MSSD_list[0].item(), self.SEN_list[0].item(), self.SPE_list[0].item()\n",
    "    \n",
    "    def all_calculation(self):\n",
    "        print(\"######### Start! ######### \")\n",
    "        self.cal_DC_and_DG()\n",
    "        self.cal_Jaccard_and_VOE()\n",
    "        self.cal_RVD_and_RAVD()\n",
    "        self.cal_ASSD()\n",
    "        self.cal_RMSD()\n",
    "        self.cal_MSSD()\n",
    "        self.cal_CONFUSION_MATRIX()\n",
    "        print(\"######### Done! ######### \")\n",
    "    \n",
    "    ############### Refereces by Monai\n",
    "    def compute_root_mean_surface_distance(\n",
    "        self,\n",
    "        include_background = False,\n",
    "        symmetric = True,\n",
    "        distance_metric = \"euclidean\",\n",
    "        spacing = None):\n",
    "\n",
    "        if not include_background:\n",
    "            y_pred, y = ignore_background(y_pred=self.pred, y=self.gt)\n",
    "        else:\n",
    "            y_pred, y = self.pred.copy(), self.gt.copy()\n",
    "\n",
    "        y_pred = convert_data_type(y_pred, output_type=torch.Tensor, dtype=torch.float)[0]\n",
    "        y = convert_data_type(y, output_type=torch.Tensor, dtype=torch.float)[0]\n",
    "\n",
    "        if y.shape != y_pred.shape:\n",
    "            raise ValueError(f\"y_pred and y should have same shapes, got {y_pred.shape} and {y.shape}.\")\n",
    "\n",
    "        batch_size, n_class = y_pred.shape[:2]\n",
    "        asd = torch.empty((batch_size, n_class), dtype=torch.float32, device=y_pred.device)\n",
    "\n",
    "        img_dim = y_pred.ndim - 2\n",
    "        spacing_list = prepare_spacing(spacing=spacing, batch_size=batch_size, img_dim=img_dim)\n",
    "\n",
    "        for b, c in np.ndindex(batch_size, n_class):\n",
    "            _, distances, _ = self.get_edge_surface_distance(\n",
    "                y_pred[b, c],\n",
    "                y[b, c],\n",
    "                distance_metric=distance_metric,\n",
    "                spacing=spacing_list[b],\n",
    "                symmetric=symmetric,\n",
    "                class_index=c,\n",
    "            )\n",
    "            surface_distance = torch.cat(distances)\n",
    "            asd[b, c] = torch.tensor(np.nan) if surface_distance.shape == (0,) else torch.sqrt(torch.mean((surface_distance)**2))\n",
    "            \n",
    "        return convert_data_type(asd, output_type=torch.Tensor, device=y_pred.device, dtype=torch.float)[0]\n",
    "    \n",
    "    # Make MSSD\n",
    "    def compute_maximum_surface_distance(\n",
    "        self,\n",
    "        include_background = False,\n",
    "        symmetric = True,\n",
    "        distance_metric = \"euclidean\",\n",
    "        spacing = None):\n",
    "\n",
    "        if not include_background:\n",
    "            y_pred, y = ignore_background(y_pred=self.pred, y=self.gt)\n",
    "        else:\n",
    "            y_pred, y = self.pred.copy(), self.gt.copy()\n",
    "\n",
    "        y_pred = convert_data_type(y_pred, output_type=torch.Tensor, dtype=torch.float)[0]\n",
    "        y = convert_data_type(y, output_type=torch.Tensor, dtype=torch.float)[0]\n",
    "\n",
    "        if y.shape != y_pred.shape:\n",
    "            raise ValueError(f\"y_pred and y should have same shapes, got {y_pred.shape} and {y.shape}.\")\n",
    "\n",
    "        batch_size, n_class = y_pred.shape[:2]\n",
    "        asd = torch.empty((batch_size, n_class), dtype=torch.float32, device=y_pred.device)\n",
    "\n",
    "        img_dim = y_pred.ndim - 2\n",
    "        spacing_list = prepare_spacing(spacing=spacing, batch_size=batch_size, img_dim=img_dim)\n",
    "\n",
    "        for b, c in np.ndindex(batch_size, n_class):\n",
    "            _, distances, _ = self.get_edge_surface_distance(\n",
    "                y_pred[b, c],\n",
    "                y[b, c],\n",
    "                distance_metric=distance_metric,\n",
    "                spacing=spacing_list[b],\n",
    "                symmetric=symmetric,\n",
    "                class_index=c,\n",
    "            )\n",
    "            surface_distance = torch.cat(distances)\n",
    "            asd[b, c] = torch.tensor(np.nan) if surface_distance.shape == (0,) else max(surface_distance)\n",
    "            \n",
    "        return convert_data_type(asd, output_type=torch.Tensor, device=y_pred.device, dtype=torch.float)[0]\n",
    "    \n",
    "    # get_edge_surface_distance\n",
    "    def get_edge_surface_distance(\n",
    "        self,\n",
    "        y_pred,\n",
    "        y,\n",
    "        distance_metric = \"euclidean\",\n",
    "        spacing: \"int | float | np.ndarray | Sequence[int | float] | None\" = None,\n",
    "        use_subvoxels: bool = False,\n",
    "        symmetric: bool = False,\n",
    "        class_index: int = -1):\n",
    "        \n",
    "        edges_spacing = None\n",
    "        if use_subvoxels:\n",
    "            edges_spacing = spacing if spacing is not None else ([1] * len(y_pred.shape))\n",
    "        \n",
    "        (edges_pred, edges_gt, *areas) = get_mask_edges(y_pred, y, crop=True, spacing=edges_spacing, always_return_as_numpy=False)\n",
    "        \n",
    "        if symmetric:\n",
    "            distances = (\n",
    "                get_surface_distance(edges_pred, edges_gt, distance_metric, spacing),\n",
    "                get_surface_distance(edges_gt, edges_pred, distance_metric, spacing),\n",
    "            )  # type: ignore\n",
    "        else:\n",
    "            distances = (get_surface_distance(edges_pred, edges_gt, distance_metric, spacing),)  # type: ignore\n",
    "            \n",
    "        return convert_to_tensor(((edges_pred, edges_gt), distances, tuple(areas)), device=y_pred.device)  # type: ignore[no-any-return]"
   ]
  },
  {
   "cell_type": "code",
   "execution_count": 3,
   "id": "f171ac6e",
   "metadata": {},
   "outputs": [],
   "source": [
    "# calculation function\n",
    "def calculation_all_metric(GT, PRED):\n",
    "    metric = Metric(GT, PRED)\n",
    "    metric.all_calculation()\n",
    "    metric.print_metric()\n",
    "    \n",
    "    return metric.save_metric()"
   ]
  },
  {
   "cell_type": "code",
   "execution_count": 4,
   "id": "d4ab89a4",
   "metadata": {},
   "outputs": [],
   "source": [
    "def remove_all_but_the_largest_connected_component(image: np.ndarray, for_which_classes: list, volume_per_voxel: float,\n",
    "                                                   minimum_valid_object_size: dict = None):\n",
    "    \"\"\"\n",
    "    removes all but the largest connected component, individually for each class\n",
    "    :param image:\n",
    "    :param for_which_classes: can be None. Should be list of int. Can also be something like [(1, 2), 2, 4].\n",
    "    Here (1, 2) will be treated as a joint region, not individual classes (example LiTS here we can use (1, 2)\n",
    "    to use all foreground classes together)\n",
    "    :param minimum_valid_object_size: Only objects larger than minimum_valid_object_size will be removed. Keys in\n",
    "    minimum_valid_object_size must match entries in for_which_classes\n",
    "    :return:\n",
    "    \"\"\"\n",
    "    if for_which_classes is None:\n",
    "        for_which_classes = np.unique(image)\n",
    "        for_which_classes = for_which_classes[for_which_classes > 0]\n",
    "\n",
    "    assert 0 not in for_which_classes, \"cannot remove background\"\n",
    "    largest_removed = {}\n",
    "    kept_size = {}\n",
    "    for c in for_which_classes:\n",
    "        if isinstance(c, (list, tuple)):\n",
    "            c = tuple(c)  # otherwise it cant be used as key in the dict\n",
    "            mask = np.zeros_like(image, dtype=bool)\n",
    "            for cl in c:\n",
    "                mask[image == cl] = True\n",
    "        else:\n",
    "            mask = image == c\n",
    "        # get labelmap and number of objects\n",
    "        lmap, num_objects = ndimage.label(mask.astype(int))\n",
    "\n",
    "        # collect object sizes\n",
    "        object_sizes = {}\n",
    "        for object_id in range(1, num_objects + 1):\n",
    "            object_sizes[object_id] = (lmap == object_id).sum() * volume_per_voxel\n",
    "\n",
    "        largest_removed[c] = None\n",
    "        kept_size[c] = None\n",
    "\n",
    "        if num_objects > 0:\n",
    "            # we always keep the largest object. We could also consider removing the largest object if it is smaller\n",
    "            # than minimum_valid_object_size in the future but we don't do that now.\n",
    "            maximum_size = max(object_sizes.values())\n",
    "            kept_size[c] = maximum_size\n",
    "\n",
    "            for object_id in range(1, num_objects + 1):\n",
    "                # we only remove objects that are not the largest\n",
    "                if object_sizes[object_id] != maximum_size:\n",
    "                    # we only remove objects that are smaller than minimum_valid_object_size\n",
    "                    remove = True\n",
    "                    if minimum_valid_object_size is not None:\n",
    "                        remove = object_sizes[object_id] < minimum_valid_object_size[c]\n",
    "                    if remove:\n",
    "                        image[(lmap == object_id) & mask] = 0\n",
    "                        if largest_removed[c] is None:\n",
    "                            largest_removed[c] = object_sizes[object_id]\n",
    "                        else:\n",
    "                            largest_removed[c] = max(largest_removed[c], object_sizes[object_id])\n",
    "    return image, largest_removed, kept_size"
   ]
  },
  {
   "cell_type": "code",
   "execution_count": 5,
   "id": "31f1e50f",
   "metadata": {},
   "outputs": [],
   "source": [
    "def post_processing(data, whole=False):\n",
    "    \n",
    "    \n",
    "    processed, largest_removed, kept_size = remove_all_but_the_largest_connected_component(\n",
    "        image=data,\n",
    "        for_which_classes=[1],\n",
    "        volume_per_voxel=3,\n",
    "        minimum_valid_object_size=None  # 이 인자는 생략하거나 None으로 설정할 수 있dma\n",
    "        )\n",
    "\n",
    "    processed = ndimage.median_filter(processed, size=3)\n",
    "\n",
    "    #klcc_transform=KeepLargestConnectedComponent(applied_labels=[1], is_onehot=None, independent=False, connectivity=True, num_components=1)\n",
    "    \n",
    "    #processed=klcc_transform(data)\n",
    "\n",
    "    #erosioned = ndimage.binary_erosion(processed, iterations=3)\n",
    "    \n",
    "    #dilationed = ndimage.binary_dilation(erosioned, iterations=3)\n",
    "    \n",
    "    #processed = np.where(dilationed == 0,0,1)\n",
    "    \n",
    "    return processed"
   ]
  },
  {
   "cell_type": "code",
   "execution_count": 7,
   "id": "0f9abead",
   "metadata": {},
   "outputs": [
    {
     "name": "stdout",
     "output_type": "stream",
     "text": [
      "5\n"
     ]
    }
   ],
   "source": [
    "# define path (설정)\n",
    "gt_folder = './DATASET_Synapse/unetr_pp_raw/unetr_pp_raw_data/Task02_Synapse/Task002_Synapse/seg_gt/test/'\n",
    "pred_folder = './output_synapse/3d_fullres/Task002_Synapse/unetr_pp_trainer_synapse__unetr_pp_Plansv2.1/fold_4/validation_raw/'\n",
    "mask_folder = './DATASET_Synapse/unetr_pp_raw/unetr_pp_raw_data/Task02_Synapse/Task002_Synapse/masking/test/'\n",
    "\n",
    "os.makedirs(mask_folder, exist_ok=True)\n",
    "\n",
    "# make nii files\n",
    "flag_post = True\n",
    "pred_name = os.listdir(pred_folder)\n",
    "pred_name = [nii for nii in pred_name if 'nii' in nii]\n",
    "print(len(pred_name)) # LiTS: 20"
   ]
  },
  {
   "cell_type": "code",
   "execution_count": 10,
   "id": "d4795074",
   "metadata": {
    "scrolled": true
   },
   "outputs": [
    {
     "name": "stderr",
     "output_type": "stream",
     "text": [
      "\r",
      "  0%|                                                                                            | 0/5 [00:00<?, ?it/s]"
     ]
    },
    {
     "name": "stdout",
     "output_type": "stream",
     "text": [
      "#### Synapse testing... ####\n"
     ]
    },
    {
     "name": "stderr",
     "output_type": "stream",
     "text": [
      "\r",
      " 20%|████████████████▊                                                                   | 1/5 [00:04<00:19,  4.90s/it]"
     ]
    },
    {
     "name": "stdout",
     "output_type": "stream",
     "text": [
      "#### Synapse testing... ####\n"
     ]
    },
    {
     "name": "stderr",
     "output_type": "stream",
     "text": [
      "\r",
      " 40%|█████████████████████████████████▌                                                  | 2/5 [00:09<00:14,  4.84s/it]"
     ]
    },
    {
     "name": "stdout",
     "output_type": "stream",
     "text": [
      "#### Synapse testing... ####\n"
     ]
    },
    {
     "name": "stderr",
     "output_type": "stream",
     "text": [
      "\r",
      " 60%|██████████████████████████████████████████████████▍                                 | 3/5 [00:12<00:07,  3.87s/it]"
     ]
    },
    {
     "name": "stdout",
     "output_type": "stream",
     "text": [
      "#### Synapse testing... ####\n"
     ]
    },
    {
     "name": "stderr",
     "output_type": "stream",
     "text": [
      "\r",
      " 80%|███████████████████████████████████████████████████████████████████▏                | 4/5 [00:15<00:03,  3.70s/it]"
     ]
    },
    {
     "name": "stdout",
     "output_type": "stream",
     "text": [
      "#### Synapse testing... ####\n"
     ]
    },
    {
     "name": "stderr",
     "output_type": "stream",
     "text": [
      "100%|████████████████████████████████████████████████████████████████████████████████████| 5/5 [00:18<00:00,  3.70s/it]\n"
     ]
    }
   ],
   "source": [
    "metric_df = pd.DataFrame(columns=['LiTS_id', 'DC', 'Jaccard', 'VOE', 'RAVD', 'ASSD', 'RMSD', 'MSSD', 'SEN', 'SPE'])\n",
    "\n",
    "for i in tqdm(range(len(pred_name))):\n",
    "    #resize = tio.Resize((256, 256, -1))\n",
    "    pred = tio.ScalarImage(os.path.join(pred_folder, pred_name[i]))\n",
    "    gt = nib.load(os.path.join(gt_folder, pred_name[i]+'.gz'))\n",
    "    \n",
    "    ############ Synapse\n",
    "    print(\"#### Synapse testing... ####\")\n",
    "    pred = np.array(pred)\n",
    "    pred = pred[0]\n",
    "    if flag_post: # post-processing\n",
    "        pred = post_processing(pred)\n",
    "    ############\n",
    "\n",
    "    pred = pred.astype('int')\n",
    "    pred = pred.transpose(2,1,0)\n",
    "    \n",
    "    nifti_file = nib.Nifti1Image(pred, gt.affine, )#real.header)\n",
    "    mask_file_name = pred_name[i].replace('hepaticvessel', 'masking')+'.gz'\n",
    "    nifti_file.to_filename(os.path.join(mask_folder, mask_file_name))  # Save as NiBabel files"
   ]
  },
  {
   "cell_type": "markdown",
   "id": "0cc24927",
   "metadata": {},
   "source": [
    "## mask apply"
   ]
  },
  {
   "cell_type": "code",
   "execution_count": 29,
   "id": "f7fd7cd9",
   "metadata": {},
   "outputs": [],
   "source": [
    "mask_path = './DATASET_Synapse/unetr_pp_raw/unetr_pp_raw_data/Task02_Synapse/Task002_Synapse/masking/test/masking_004.nii.gz'\n",
    "ct_path = './DATASET_Synapse/unetr_pp_raw/unetr_pp_raw_data/Task02_Synapse/Task002_Synapse/unetr_pp_Data_plans_v2.1_stage1/test/hepaticvessel_004.nii.gz'\n",
    "\n",
    "# mask files\n",
    "masking = tio.ScalarImage(mask_path)\n",
    "masking = np.array(masking)\n",
    "masking = np.transpose(masking[0], (2,1,0))\n",
    "\n",
    "resample = tio.Resample()\n",
    "\n",
    "# ct files\n",
    "#resize = tio.Resize((256,256,-1))\n",
    "a = tio.ScalarImage(ct_path)\n",
    "resampled = resample(a)\n",
    "a = resampled.data\n",
    "a = np.array(a)\n",
    "#a = resize(a) # input: 4D\n",
    "#a = np.clip(a, -250, 250) # Zhu et al. paper (2024) // HU values / -250, 250\n",
    "\n",
    "a = (a - np.min(a)) / (np.max(a) - np.min(a)) # normalize - preprocessing\n",
    "a = np.transpose(a[0], (2,1,0)) # TODO: 9/24 axial"
   ]
  },
  {
   "cell_type": "code",
   "execution_count": 30,
   "id": "746374f1",
   "metadata": {},
   "outputs": [
    {
     "data": {
      "text/plain": [
       "(215, 500, 500)"
      ]
     },
     "execution_count": 30,
     "metadata": {},
     "output_type": "execute_result"
    }
   ],
   "source": [
    "a.shape"
   ]
  },
  {
   "cell_type": "code",
   "execution_count": 31,
   "id": "486d6445",
   "metadata": {},
   "outputs": [
    {
     "data": {
      "text/plain": [
       "<matplotlib.image.AxesImage at 0x28906e15280>"
      ]
     },
     "execution_count": 31,
     "metadata": {},
     "output_type": "execute_result"
    },
    {
     "data": {
      "image/png": "[encoded data removed]",
      "text/plain": [
       "<Figure size 640x480 with 1 Axes>"
      ]
     },
     "metadata": {},
     "output_type": "display_data"
    }
   ],
   "source": [
    "import matplotlib.pyplot as plt\n",
    "plt.imshow(a[150], cmap='gray')"
   ]
  },
  {
   "cell_type": "code",
   "execution_count": 32,
   "id": "626d9fe7",
   "metadata": {},
   "outputs": [],
   "source": [
    "a = a*masking"
   ]
  },
  {
   "cell_type": "code",
   "execution_count": 33,
   "id": "37bac7c5",
   "metadata": {},
   "outputs": [
    {
     "data": {
      "text/plain": [
       "<matplotlib.image.AxesImage at 0x28906e64340>"
      ]
     },
     "execution_count": 33,
     "metadata": {},
     "output_type": "execute_result"
    },
    {
     "data": {
      "image/png": "[encoded data removed]",
      "text/plain": [
       "<Figure size 640x480 with 1 Axes>"
      ]
     },
     "metadata": {},
     "output_type": "display_data"
    }
   ],
   "source": [
    "import matplotlib.pyplot as plt\n",
    "plt.imshow(a[100], cmap='gray')"
   ]
  }
 ],
 "metadata": {
  "kernelspec": {
   "display_name": "Python 3 (ipykernel)",
   "language": "python",
   "name": "python3"
  },
  "language_info": {
   "codemirror_mode": {
    "name": "ipython",
    "version": 3
   },
   "file_extension": ".py",
   "mimetype": "text/x-python",
   "name": "python",
   "nbconvert_exporter": "python",
   "pygments_lexer": "ipython3",
   "version": "3.9.19"
  }
 },
 "nbformat": 4,
 "nbformat_minor": 5
}
